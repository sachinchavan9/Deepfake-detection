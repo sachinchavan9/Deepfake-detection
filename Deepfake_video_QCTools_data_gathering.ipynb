{
 "cells": [
  {
   "cell_type": "code",
   "execution_count": 4,
   "metadata": {},
   "outputs": [
    {
     "name": "stdout",
     "output_type": "stream",
     "text": [
      "Collecting youtube_dl\n",
      "  Downloading https://files.pythonhosted.org/packages/21/d8/42f450699657d57c8d6464c0511fea97c28830a57edf8460f3285cfa7c4d/youtube_dl-2019.1.23-py2.py3-none-any.whl (1.8MB)\n",
      "Installing collected packages: youtube-dl\n",
      "Successfully installed youtube-dl-2019.1.23\n"
     ]
    },
    {
     "name": "stderr",
     "output_type": "stream",
     "text": [
      "twisted 18.7.0 requires PyHamcrest>=1.9.0, which is not installed.\n",
      "You are using pip version 10.0.1, however version 18.1 is available.\n",
      "You should consider upgrading via the 'python -m pip install --upgrade pip' command.\n"
     ]
    }
   ],
   "source": [
    "!pip install youtube_dl"
   ]
  },
  {
   "cell_type": "code",
   "execution_count": 14,
   "metadata": {},
   "outputs": [],
   "source": [
    "import sys\n",
    "from youtube_dl import YoutubeDL\n",
    "path=\"./\"\n",
    "def video_download():\n",
    "    file = open(path+\"fakevideoslist.txt\",'r')\n",
    "    urllist=file.readlines()\n",
    "    print(urllist)\n",
    "    if len(urllist)>1:\n",
    "        ydl_opts = {}\n",
    "        ydl = YoutubeDL(ydl_opts)\n",
    "        ydl.download(urllist)\n",
    "    else:\n",
    "        print(\"Enter list of urls to download\")\n",
    "        exit(0)"
   ]
  },
  {
   "cell_type": "code",
   "execution_count": 15,
   "metadata": {},
   "outputs": [
    {
     "name": "stdout",
     "output_type": "stream",
     "text": [
      "['BU9YAHigNx8\\n', 'Zx5w8gDN1tw\\n', 'GWurou7dCDM\\n', 'Cs1SkB_8PEo']\n",
      "[youtube] BU9YAHigNx8: Downloading webpage\n",
      "[youtube] BU9YAHigNx8: Downloading video info webpage\n",
      "[download] Nick Cage DeepFakes Movie Compilation-BU9YAHigNx8.mp4 has already been downloaded\n",
      "[download] 100% of 7.42MiB\n",
      "[youtube] Zx5w8gDN1tw: Downloading webpage\n",
      "[youtube] Zx5w8gDN1tw: Downloading video info webpage\n",
      "[youtube] Zx5w8gDN1tw: Downloading MPD manifest\n",
      "[download] Deepfake-Zx5w8gDN1tw.mp4 has already been downloaded\n",
      "[download] 100% of 6.47MiB\n",
      "[youtube] GWurou7dCDM: Downloading webpage\n",
      "[youtube] GWurou7dCDM: Downloading video info webpage\n",
      "[youtube] GWurou7dCDM: Downloading MPD manifest\n",
      "[download] A New Hope but Obi Wan is played by Ewan McGregor (DeepFake)-GWurou7dCDM.mp4 has already been downloaded\n",
      "[download] 100% of 9.85MiB\n",
      "[youtube] Cs1SkB_8PEo: Downloading webpage\n",
      "[youtube] Cs1SkB_8PEo: Downloading video info webpage\n",
      "[download] Capt. Kirk and Mr. Spock Deepfake-Cs1SkB_8PEo.mp4 has already been downloaded\n",
      "[download] 100% of 7.74MiB\n"
     ]
    }
   ],
   "source": [
    "video_download()"
   ]
  },
  {
   "cell_type": "code",
   "execution_count": 43,
   "metadata": {},
   "outputs": [],
   "source": [
    "def generateQCToolsData():\n",
    "    from os import listdir,popen\n",
    "    from os.path import isfile, join\n",
    "    onlymp4files = [f for f in listdir(path) if isfile(join(path, f)) and '.mp4' in f]\n",
    "    for mp4 in onlymp4files:\n",
    "        output=popen(\"qcli -i \"+mp4).read()\n",
    "        print(output)"
   ]
  },
  {
   "cell_type": "code",
   "execution_count": 44,
   "metadata": {},
   "outputs": [
    {
     "name": "stdout",
     "output_type": "stream",
     "text": [
      "\n",
      "\n",
      "\n",
      "\n"
     ]
    }
   ],
   "source": [
    "generateQCToolsData()"
   ]
  },
  {
   "cell_type": "code",
   "execution_count": null,
   "metadata": {},
   "outputs": [],
   "source": []
  }
 ],
 "metadata": {
  "kernelspec": {
   "display_name": "Python 3",
   "language": "python",
   "name": "python3"
  },
  "language_info": {
   "codemirror_mode": {
    "name": "ipython",
    "version": 3
   },
   "file_extension": ".py",
   "mimetype": "text/x-python",
   "name": "python",
   "nbconvert_exporter": "python",
   "pygments_lexer": "ipython3",
   "version": "3.7.0"
  }
 },
 "nbformat": 4,
 "nbformat_minor": 2
}
